{
 "cells": [
  {
   "cell_type": "markdown",
   "id": "duplicate-syria",
   "metadata": {},
   "source": [
    "### Задание 1\n",
    "Напишите функцию, которая возвращает название валюты (поле ‘Name’) с максимальным значением курса с помощью сервиса www.cbr-xml-daily.ru...ly_json.js"
   ]
  },
  {
   "cell_type": "code",
   "execution_count": 4,
   "id": "wound-report",
   "metadata": {},
   "outputs": [],
   "source": [
    "from libs.exchange import Rate\n",
    "import json"
   ]
  },
  {
   "cell_type": "code",
   "execution_count": 5,
   "id": "differential-lottery",
   "metadata": {},
   "outputs": [],
   "source": [
    "def get_max_rate() -> str:\n",
    "    \"\"\"\n",
    "    function for finding the maximum value of the rate\n",
    "    :return: str, maximum value of the rate\n",
    "    \"\"\"\n",
    "    rate = Rate(format='full').exchange_rates()\n",
    "    max_rate = 0\n",
    "\n",
    "    for key, value in rate.items():\n",
    "        if value['Value'] > max_rate:\n",
    "            max_rate = value['Value']\n",
    "            max_rate_name = value['Name']\n",
    "\n",
    "    return max_rate_name"
   ]
  },
  {
   "cell_type": "code",
   "execution_count": 6,
   "id": "diagnostic-western",
   "metadata": {},
   "outputs": [
    {
     "data": {
      "text/plain": [
       "'СДР (специальные права заимствования)'"
      ]
     },
     "execution_count": 6,
     "metadata": {},
     "output_type": "execute_result"
    }
   ],
   "source": [
    "get_max_rate()"
   ]
  },
  {
   "cell_type": "code",
   "execution_count": 11,
   "id": "civilian-trainer",
   "metadata": {},
   "outputs": [],
   "source": [
    "# Вариант 2:\n",
    "\n",
    "\n",
    "def get_max_rate() -> str:\n",
    "    \"\"\"\n",
    "    function for finding the maximum value of the rate\n",
    "    :return: str, maximum value of the rate\n",
    "    \"\"\"\n",
    "    rate = Rate(format='full').exchange_rates()\n",
    "    max_rate = max(rate.items(), key=lambda x: x[1]['Value'])[1]['Name']\n",
    "\n",
    "    return max_rate"
   ]
  },
  {
   "cell_type": "code",
   "execution_count": 12,
   "id": "fourth-girlfriend",
   "metadata": {},
   "outputs": [
    {
     "data": {
      "text/plain": [
       "'СДР (специальные права заимствования)'"
      ]
     },
     "execution_count": 12,
     "metadata": {},
     "output_type": "execute_result"
    }
   ],
   "source": [
    "get_max_rate()"
   ]
  },
  {
   "cell_type": "markdown",
   "id": "presidential-buffalo",
   "metadata": {},
   "source": [
    "### Задание 2\n",
    "Добавьте в класс Rate параметр diff (со значениями True или False), который в случае значения True в методах курсов валют (eur, usd итд) будет возвращать не курс валюты, а изменение по сравнению в прошлым значением. Считайте, self.diff будет принимать значение True только при возврате значения курса. При отображении всей информации о валюте он не используется."
   ]
  },
  {
   "cell_type": "code",
   "execution_count": 4,
   "id": "printable-electricity",
   "metadata": {},
   "outputs": [],
   "source": [
    "import requests"
   ]
  },
  {
   "cell_type": "code",
   "execution_count": 5,
   "id": "published-fiction",
   "metadata": {},
   "outputs": [],
   "source": [
    "class Rate:\n",
    "    def __init__(self, format='value', diff=False):\n",
    "        self.format = format\n",
    "        self.diff = diff\n",
    "    \n",
    "    def exchange_rates(self):\n",
    "        \"\"\"\n",
    "        Возвращает ответ сервиса с информацией о валютах в виде:\n",
    "        \n",
    "        {\n",
    "            'AMD': {\n",
    "                'CharCode': 'AMD',\n",
    "                'ID': 'R01060',\n",
    "                'Name': 'Армянских драмов',\n",
    "                'Nominal': 100,\n",
    "                'NumCode': '051',\n",
    "                'Previous': 14.103,\n",
    "                'Value': 14.0879\n",
    "                },\n",
    "            ...\n",
    "        }\n",
    "        \"\"\"\n",
    "        r = requests.get('https://www.cbr-xml-daily.ru/daily_json.js')\n",
    "        return r.json()['Valute']\n",
    "    \n",
    "    def make_format(self, currency):\n",
    "        \"\"\"\n",
    "        Возвращает информацию о валюте currency в двух вариантах:\n",
    "        - полная информация о валюте при self.format = 'full':\n",
    "        Rate('full').make_format('EUR')\n",
    "        {\n",
    "            'CharCode': 'EUR',\n",
    "            'ID': 'R01239',\n",
    "            'Name': 'Евро',\n",
    "            'Nominal': 1,\n",
    "            'NumCode': '978',\n",
    "            'Previous': 79.6765,\n",
    "            'Value': 79.4966\n",
    "        }\n",
    "        \n",
    "        Rate('value').make_format('EUR')\n",
    "        79.4966\n",
    "        \"\"\"\n",
    "        response = self.exchange_rates()\n",
    "        \n",
    "        if currency in response:\n",
    "            if self.format == 'full':\n",
    "                return response[currency]\n",
    "            \n",
    "            if self.format == 'value':\n",
    "                if self.diff:\n",
    "                     return response[currency]['Value'] -response[currency]['Previous']\n",
    "                else:\n",
    "                    return response[currency]['Value']\n",
    "        \n",
    "        return 'Error'\n",
    "    \n",
    "    def eur(self):\n",
    "        \"\"\"Возвращает курс евро на сегодня в формате self.format\"\"\"\n",
    "        return self.make_format('EUR')\n",
    "    \n",
    "    def usd(self):\n",
    "        \"\"\"Возвращает курс доллара на сегодня в формате self.format\"\"\"\n",
    "        return self.make_format('USD')\n",
    "\n",
    "    def AZN(self):\n",
    "        \"\"\"Возвращает курс азербайджанского маната на сегодня в формате self.format\"\"\"\n",
    "        return self.make_format('AZN')"
   ]
  },
  {
   "cell_type": "code",
   "execution_count": 6,
   "id": "arranged-skirt",
   "metadata": {},
   "outputs": [
    {
     "data": {
      "text/plain": [
       "0.008300000000005525"
      ]
     },
     "execution_count": 6,
     "metadata": {},
     "output_type": "execute_result"
    }
   ],
   "source": [
    "r = Rate(diff=True)\n",
    "r.usd()"
   ]
  },
  {
   "cell_type": "code",
   "execution_count": 7,
   "id": "drawn-transaction",
   "metadata": {},
   "outputs": [
    {
     "data": {
      "text/plain": [
       "72.1777"
      ]
     },
     "execution_count": 7,
     "metadata": {},
     "output_type": "execute_result"
    }
   ],
   "source": [
    "r = Rate(diff=False)\n",
    "r.usd()"
   ]
  },
  {
   "cell_type": "markdown",
   "id": "swedish-stereo",
   "metadata": {},
   "source": [
    "### Задание 3\n",
    "Напишите класс Designer, который учитывает количество международных премий. Подсказки в коде занятия в разделе “Домашнее задание задача 3”."
   ]
  },
  {
   "cell_type": "markdown",
   "id": "native-information",
   "metadata": {},
   "source": [
    "Комментарий по классу Designer такой:\n",
    "Напишите класс Designer, который учитывает количество международных премий для дизайнеров (из презентации: “Повышение на 1 грейд за каждые 7 баллов. Получение международной премии – это +2 балла”). Считайте, что при выходе на работу сотрудник уже имеет две премии и их количество не меняется со стажем (конечно если хотите это можно вручную менять).\n",
    "\n",
    "Класс Designer пишется по аналогии с классом Developer из материалов занятия. Комментарий про его условия Вика написала выше: “Повышение на 1 грейд за каждые 7 баллов. Получение международной премии – это +2 балла” -->"
   ]
  },
  {
   "cell_type": "code",
   "execution_count": 8,
   "id": "desirable-stewart",
   "metadata": {},
   "outputs": [],
   "source": [
    "class Employee:\n",
    "    def __init__(self, name, seniority):\n",
    "        self.name = name\n",
    "        self.seniority = seniority\n",
    "        \n",
    "        self.grade = 1\n",
    "    \n",
    "    def grade_up(self):\n",
    "        \"\"\"Повышает уровень сотрудника\"\"\"\n",
    "        self.grade += 1\n",
    "    \n",
    "    def publish_grade(self):\n",
    "        \"\"\"Публикация результатов аккредитации сотрудников\"\"\"\n",
    "        print(self.name, self.grade)\n",
    "    \n",
    "    def check_if_it_is_time_for_upgrade(self):\n",
    "        pass"
   ]
  },
  {
   "cell_type": "code",
   "execution_count": 66,
   "id": "announced-needle",
   "metadata": {},
   "outputs": [],
   "source": [
    "class  Designer(Employee):\n",
    "    def __init__(self, name, seniority, award=2):\n",
    "        super().__init__(name, seniority)\n",
    "        self.award = award\n",
    "        \n",
    "    def publish_grade(self):\n",
    "        \"\"\"Публикация результатов аккредитации сотрудников. Переопределение родительского метода\"\"\"\n",
    "        print(f'{self.name} -->   awards: {self.award}  grade: {self.grade}  seniority: {self.seniority}')\n",
    "    \n",
    "    def check_if_it_is_time_for_upgrade(self):\n",
    "        \"\"\"Проверка повышения уровня сотрудника\"\"\"\n",
    "        self.seniority += 1\n",
    "        \n",
    "        # условие повышения сотрудника: повышение на 1 грейд за каждые 7 баллов с учетом +2 балла за международную премию\n",
    "        if (self.seniority + self.award*2) % 7 == 0:\n",
    "            self.grade_up()\n",
    "        # публикация результатов\n",
    "        return self.publish_grade()\n",
    "    \n",
    "    def get_award(self):\n",
    "        \"\"\"Получение международной премии\"\"\"\n",
    "        self.award += 1\n",
    "        return self.award\n"
   ]
  },
  {
   "cell_type": "code",
   "execution_count": 67,
   "id": "roman-witness",
   "metadata": {},
   "outputs": [],
   "source": [
    "maria = Designer(\"Maria\", seniority=1)"
   ]
  },
  {
   "cell_type": "code",
   "execution_count": 68,
   "id": "valid-community",
   "metadata": {},
   "outputs": [
    {
     "name": "stdout",
     "output_type": "stream",
     "text": [
      "Maria -->   awards: 2  grade: 1  seniority: 2\n",
      "Maria -->   awards: 2  grade: 2  seniority: 3\n",
      "Maria -->   awards: 2  grade: 2  seniority: 4\n",
      "Maria -->   awards: 2  grade: 2  seniority: 5\n",
      "Maria -->   awards: 2  grade: 2  seniority: 6\n",
      "Maria -->   awards: 2  grade: 2  seniority: 7\n",
      "Maria -->   awards: 2  grade: 2  seniority: 8\n",
      "Maria -->   awards: 2  grade: 2  seniority: 9\n",
      "Maria -->   awards: 2  grade: 3  seniority: 10\n",
      "Maria -->   awards: 2  grade: 3  seniority: 11\n",
      "Maria -->   awards: 2  grade: 3  seniority: 12\n",
      "Maria -->   awards: 2  grade: 3  seniority: 13\n",
      "Maria -->   awards: 2  grade: 3  seniority: 14\n",
      "Maria -->   awards: 2  grade: 3  seniority: 15\n",
      "Maria -->   awards: 2  grade: 3  seniority: 16\n",
      "Maria -->   awards: 2  grade: 4  seniority: 17\n",
      "Maria -->   awards: 2  grade: 4  seniority: 18\n",
      "Maria -->   awards: 2  grade: 4  seniority: 19\n",
      "Maria -->   awards: 2  grade: 4  seniority: 20\n",
      "Maria -->   awards: 2  grade: 4  seniority: 21\n"
     ]
    }
   ],
   "source": [
    "for i in range(20):\n",
    "    maria.check_if_it_is_time_for_upgrade()"
   ]
  },
  {
   "cell_type": "code",
   "execution_count": null,
   "id": "interested-jonathan",
   "metadata": {},
   "outputs": [],
   "source": []
  }
 ],
 "metadata": {
  "kernelspec": {
   "display_name": "Python 3",
   "language": "python",
   "name": "python3"
  },
  "language_info": {
   "codemirror_mode": {
    "name": "ipython",
    "version": 3
   },
   "file_extension": ".py",
   "mimetype": "text/x-python",
   "name": "python",
   "nbconvert_exporter": "python",
   "pygments_lexer": "ipython3",
   "version": "3.7.8"
  }
 },
 "nbformat": 4,
 "nbformat_minor": 5
}

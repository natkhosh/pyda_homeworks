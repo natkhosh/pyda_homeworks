{
 "cells": [
  {
   "cell_type": "markdown",
   "id": "modular-furniture",
   "metadata": {},
   "source": [
    "#  Домашнее задание"
   ]
  },
  {
   "cell_type": "code",
   "execution_count": 1,
   "id": "stuffed-coverage",
   "metadata": {},
   "outputs": [],
   "source": [
    "import numpy as np"
   ]
  },
  {
   "cell_type": "markdown",
   "id": "attempted-census",
   "metadata": {},
   "source": [
    "### Задание  \n",
    "#### 1. Создайте случайную матрицу А1 размерностью 5 на 5\n"
   ]
  },
  {
   "cell_type": "code",
   "execution_count": 7,
   "id": "familiar-brick",
   "metadata": {},
   "outputs": [
    {
     "data": {
      "text/plain": [
       "array([[8, 4, 0, 0, 8],\n",
       "       [3, 2, 1, 8, 6],\n",
       "       [0, 4, 6, 4, 4],\n",
       "       [7, 8, 5, 6, 5],\n",
       "       [2, 6, 2, 8, 2]])"
      ]
     },
     "execution_count": 7,
     "metadata": {},
     "output_type": "execute_result"
    }
   ],
   "source": [
    "np.random.seed(21)\n",
    "A1 = np.random.randint(0, 9, size=(5, 5))\n",
    "A1"
   ]
  },
  {
   "cell_type": "markdown",
   "id": "defensive-amateur",
   "metadata": {},
   "source": [
    "#### 2. Транспонируйте матрицу A1\n"
   ]
  },
  {
   "cell_type": "code",
   "execution_count": 60,
   "id": "appreciated-meaning",
   "metadata": {},
   "outputs": [
    {
     "data": {
      "text/plain": [
       "array([[8, 3, 0, 7, 2],\n",
       "       [4, 2, 4, 8, 6],\n",
       "       [0, 1, 6, 5, 2],\n",
       "       [0, 8, 4, 6, 8],\n",
       "       [8, 6, 4, 5, 2]])"
      ]
     },
     "execution_count": 60,
     "metadata": {},
     "output_type": "execute_result"
    }
   ],
   "source": [
    "# вариант 1 \n",
    "A12 = A1.T\n",
    "A12"
   ]
  },
  {
   "cell_type": "code",
   "execution_count": 25,
   "id": "neither-accommodation",
   "metadata": {},
   "outputs": [
    {
     "data": {
      "text/plain": [
       "array([[8, 3, 0, 7, 2],\n",
       "       [4, 2, 4, 8, 6],\n",
       "       [0, 1, 6, 5, 2],\n",
       "       [0, 8, 4, 6, 8],\n",
       "       [8, 6, 4, 5, 2]])"
      ]
     },
     "execution_count": 25,
     "metadata": {},
     "output_type": "execute_result"
    }
   ],
   "source": [
    "# вариант 2\n",
    "np.transpose(A1)"
   ]
  },
  {
   "cell_type": "markdown",
   "id": "living-snapshot",
   "metadata": {},
   "source": [
    "#### 3. Найдите обратную матрицу для А1"
   ]
  },
  {
   "cell_type": "code",
   "execution_count": 62,
   "id": "representative-chapel",
   "metadata": {},
   "outputs": [
    {
     "data": {
      "text/plain": [
       "array([[-0.10680751,  0.09859155, -0.18075117,  0.28638498, -0.22300469],\n",
       "       [ 0.16079812, -0.22535211,  0.07981221, -0.17840376,  0.31924883],\n",
       "       [-0.1443662 ,  0.05633803,  0.06338028,  0.21126761, -0.24647887],\n",
       "       [-0.09565728,  0.12676056, -0.0657277 ,  0.05868545, -0.0129108 ],\n",
       "       [ 0.15140845,  0.01408451,  0.14084507, -0.1971831 ,  0.06338028]])"
      ]
     },
     "execution_count": 62,
     "metadata": {},
     "output_type": "execute_result"
    }
   ],
   "source": [
    "A13 = np.linalg.inv(A1)\n",
    "A13"
   ]
  },
  {
   "cell_type": "markdown",
   "id": "derived-import",
   "metadata": {},
   "source": [
    "#### 4. Создайте диагональную матрицу - поэлементно перемножив единичную матрицу I и случайную матрицу A2 размерности 4 на 4"
   ]
  },
  {
   "cell_type": "code",
   "execution_count": 54,
   "id": "excess-french",
   "metadata": {},
   "outputs": [
    {
     "data": {
      "text/plain": [
       "array([[1., 0., 0., 0.],\n",
       "       [0., 1., 0., 0.],\n",
       "       [0., 0., 1., 0.],\n",
       "       [0., 0., 0., 1.]])"
      ]
     },
     "execution_count": 54,
     "metadata": {},
     "output_type": "execute_result"
    }
   ],
   "source": [
    "I = np.eye(4)\n",
    "I"
   ]
  },
  {
   "cell_type": "code",
   "execution_count": 55,
   "id": "ongoing-wales",
   "metadata": {},
   "outputs": [
    {
     "data": {
      "text/plain": [
       "array([[8, 4, 0, 0],\n",
       "       [8, 3, 2, 1],\n",
       "       [8, 6, 0, 4],\n",
       "       [6, 4, 4, 7]])"
      ]
     },
     "execution_count": 55,
     "metadata": {},
     "output_type": "execute_result"
    }
   ],
   "source": [
    "np.random.seed(21) \n",
    "A2 = np.random.randint(0, 9, size=(4, 4))\n",
    "A2"
   ]
  },
  {
   "cell_type": "code",
   "execution_count": 56,
   "id": "comparable-residence",
   "metadata": {},
   "outputs": [
    {
     "data": {
      "text/plain": [
       "array([[5., 0., 0., 0.],\n",
       "       [0., 7., 0., 0.],\n",
       "       [0., 0., 2., 0.],\n",
       "       [0., 0., 0., 7.]])"
      ]
     },
     "execution_count": 56,
     "metadata": {},
     "output_type": "execute_result"
    }
   ],
   "source": [
    "A3 = np.multiply(I, A22)\n",
    "A3"
   ]
  },
  {
   "cell_type": "markdown",
   "id": "mathematical-recipient",
   "metadata": {},
   "source": [
    "#### 5. Создайте нулевую матрицу размерности 3 на 3"
   ]
  },
  {
   "cell_type": "code",
   "execution_count": 57,
   "id": "biblical-adams",
   "metadata": {},
   "outputs": [
    {
     "data": {
      "text/plain": [
       "array([[0., 0., 0.],\n",
       "       [0., 0., 0.],\n",
       "       [0., 0., 0.]])"
      ]
     },
     "execution_count": 57,
     "metadata": {},
     "output_type": "execute_result"
    }
   ],
   "source": [
    "A4 = np.zeros([3, 3])\n",
    "A4"
   ]
  },
  {
   "cell_type": "markdown",
   "id": "greater-observation",
   "metadata": {},
   "source": [
    "#### 6. Для всех полученных матриц найдите: определитель, ранг и собственные значения"
   ]
  },
  {
   "cell_type": "code",
   "execution_count": 89,
   "id": "demonstrated-christianity",
   "metadata": {},
   "outputs": [
    {
     "name": "stdout",
     "output_type": "stream",
     "text": [
      "Определитель случайной матрицы А1 = -6816.0000000000055\n",
      "Определитель транспонируованной матрицы A1 = -6815.999999999994\n",
      "Определитель обратной матрицы А1 = -0.00014671361502347432\n",
      "Определитель диагональной матрицы А3 = 489.99999999999983\n",
      "Определитель нулевой матрицы А4 = 0.0\n"
     ]
    }
   ],
   "source": [
    "# определитель\n",
    "d1 = np.linalg.det(A1)\n",
    "d2 = np.linalg.det(A12)\n",
    "d3 = np.linalg.det(A13)\n",
    "d4 = np.linalg.det(A3)\n",
    "d5 = np.linalg.det(A4)\n",
    "\n",
    "print(f'Определитель случайной матрицы А1 = {d1}')\n",
    "print(f'Определитель транспонируованной матрицы A1 = {d2}')\n",
    "print(f'Определитель обратной матрицы А1 = {d3}')\n",
    "print(f'Определитель диагональной матрицы А3 = {d4}')\n",
    "print(f'Определитель нулевой матрицы А4 = {d5}')"
   ]
  },
  {
   "cell_type": "code",
   "execution_count": 73,
   "id": "residential-assurance",
   "metadata": {},
   "outputs": [
    {
     "name": "stdout",
     "output_type": "stream",
     "text": [
      "Ранг случайной матрицы А1 = 5\n",
      "Ранг транспонируованной матрицы A1 = 5\n",
      "Ранг обратной матрицы А1 = 5\n",
      "Ранг диагональной матрицы А3 = 4\n",
      "Ранг нулевой матрицы А4 = 0\n"
     ]
    }
   ],
   "source": [
    "# ранг\n",
    "\n",
    "r1 = np.linalg.matrix_rank(A1)\n",
    "r2 = np.linalg.matrix_rank(A12)\n",
    "r3 = np.linalg.matrix_rank(A13)\n",
    "r4 = np.linalg.matrix_rank(A3)\n",
    "r5 = np.linalg.matrix_rank(A4)\n",
    "\n",
    "print(f'Ранг случайной матрицы А1 = {r1}')\n",
    "print(f'Ранг транспонируованной матрицы A1 = {r2}')\n",
    "print(f'Ранг обратной матрицы А1 = {r3}')\n",
    "print(f'Ранг диагональной матрицы А3 = {r4}')\n",
    "print(f'Ранг нулевой матрицы А4 = {r5}')"
   ]
  },
  {
   "cell_type": "code",
   "execution_count": 83,
   "id": "concrete-workstation",
   "metadata": {},
   "outputs": [
    {
     "name": "stdout",
     "output_type": "stream",
     "text": [
      "Cобственные значения случайной матрицы А1: \n",
      " [22.45879511+0.j         6.66522971+0.j        -0.532376  +3.3066077j\n",
      " -0.532376  -3.3066077j -4.05927282+0.j       ]\n",
      "Cобственные значения транспонируованной матрицы A1: \n",
      " [22.45879511+0.j         6.66522971+0.j        -0.532376  +3.3066077j\n",
      " -0.532376  -3.3066077j -4.05927282+0.j       ]\n",
      "Cобственные значения обратной матрицы А1:  \n",
      "[-0.0474612 +0.29478332j -0.0474612 -0.29478332j  0.15003234+0.j\n",
      "  0.04452599+0.j         -0.24634954+0.j        ]\n",
      "Cобственные значения диагональной матрицы А3: [5. 7. 2. 7.]\n",
      "Cобственные значения нулевой матрицы А4: [0. 0. 0.]\n"
     ]
    }
   ],
   "source": [
    "# собственные значения\n",
    "\n",
    "np.linalg.eigvals(A1)\n",
    "\n",
    "e1 = np.linalg.eigvals(A1)\n",
    "e2 = np.linalg.eigvals(A12)\n",
    "e3 = np.linalg.eigvals(A13)\n",
    "e4 = np.linalg.eigvals(A3)\n",
    "e5 = np.linalg.eigvals(A4)\n",
    "\n",
    "print(f'Cобственные значения случайной матрицы А1: \\n {e1}')\n",
    "print(f'Cобственные значения транспонируованной матрицы A1: \\n {e2}')\n",
    "print(f'Cобственные значения обратной матрицы А1:  \\n {e3}')\n",
    "print(f'Cобственные значения диагональной матрицы А3: {e4}')\n",
    "print(f'Cобственные значения нулевой матрицы А4: {e5}')"
   ]
  },
  {
   "cell_type": "code",
   "execution_count": null,
   "id": "civilian-shark",
   "metadata": {},
   "outputs": [],
   "source": []
  },
  {
   "cell_type": "markdown",
   "id": "present-cattle",
   "metadata": {},
   "source": [
    "#### 7. Проанализируйте результаты"
   ]
  },
  {
   "cell_type": "code",
   "execution_count": 91,
   "id": "chinese-vacation",
   "metadata": {},
   "outputs": [
    {
     "data": {
      "text/plain": [
       "1.0000000000000018"
      ]
     },
     "execution_count": 91,
     "metadata": {},
     "output_type": "execute_result"
    }
   ],
   "source": [
    "# 1. \n",
    "# Определитель матрицы не меняется при её транспонировании\n",
    "# У нулевой матрицы определить всегда равен нулю.\n",
    "# Определитель единичной матрицы равен 1.\n",
    "# Определитель обратной матрицы равен обратной величине определителя исходной матрицы\n",
    "d3 *d1"
   ]
  },
  {
   "cell_type": "code",
   "execution_count": null,
   "id": "sunrise-filling",
   "metadata": {},
   "outputs": [],
   "source": [
    "# 2.\n",
    "# Ранг матрицы, полученной транспонированием, равен рангу исходной матрицы.\n",
    "# Ранг нулевой матрицы равен нулю.\n",
    "# A13 — квадратная матрица и определитель det A13=0, то строки и столбцы этой матрицы линейно зависимы."
   ]
  },
  {
   "cell_type": "code",
   "execution_count": null,
   "id": "specified-packing",
   "metadata": {},
   "outputs": [],
   "source": [
    "# 3.\n",
    "# Собственные значения у диагональной матрицы равны значениям главной диагонали.\n",
    "# Для нулевой матирицы собственные значения равны нулю.\n",
    "# Собственные значения случайной и транспонированной матрицы идентичны."
   ]
  },
  {
   "cell_type": "code",
   "execution_count": null,
   "id": "sharing-outside",
   "metadata": {},
   "outputs": [],
   "source": []
  }
 ],
 "metadata": {
  "kernelspec": {
   "display_name": "Python 3",
   "language": "python",
   "name": "python3"
  },
  "language_info": {
   "codemirror_mode": {
    "name": "ipython",
    "version": 3
   },
   "file_extension": ".py",
   "mimetype": "text/x-python",
   "name": "python",
   "nbconvert_exporter": "python",
   "pygments_lexer": "ipython3",
   "version": "3.7.8"
  }
 },
 "nbformat": 4,
 "nbformat_minor": 5
}

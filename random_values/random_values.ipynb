{
 "cells": [
  {
   "cell_type": "markdown",
   "id": "auburn-moore",
   "metadata": {},
   "source": [
    "## Домашнее задание к лекции «Случайные события. Случайные величины»\n",
    "Текст задания см. на скриншоте http://prntscr.com/uh35yg\n",
    "\n",
    "Смоделировать игру против лотерейного автомата типа “777”. Игрок платит 1 руб., после чего выпадает случайное целое число, равномерно распределенное от 0 до 999. При некоторых значениях числа игрок получает выигрыш.\n",
    "\n",
    "- 777: 200 руб.\n",
    "- 999: 100 руб.\n",
    "- 555: 50 руб.\n",
    "- 333: 15 руб.\n",
    "- 111: 10 руб.\n",
    "- *77: 5 руб.\n",
    "- **7: 3 руб.\n",
    "- *00: 2 руб.\n",
    "- **0: 1 руб.\n",
    "\n",
    "Вопросы:\n",
    "\n",
    "Выгодна ли игра игроку?\n",
    "Сколько в среднем приобретает или теряет игрок за одну игру?"
   ]
  },
  {
   "cell_type": "code",
   "execution_count": 7,
   "id": "fatty-grass",
   "metadata": {},
   "outputs": [],
   "source": [
    "import numpy as np"
   ]
  },
  {
   "cell_type": "code",
   "execution_count": 170,
   "id": "russian-apparatus",
   "metadata": {},
   "outputs": [],
   "source": [
    "trials = 1000000      # Количество попыток, равное потраченных денег\n",
    "prize= 0             # Выигрыш"
   ]
  },
  {
   "cell_type": "code",
   "execution_count": 171,
   "id": "weighted-bulgarian",
   "metadata": {},
   "outputs": [
    {
     "data": {
      "text/plain": [
       "array([136, 779, 322, ..., 877, 259, 870])"
      ]
     },
     "execution_count": 171,
     "metadata": {},
     "output_type": "execute_result"
    }
   ],
   "source": [
    "random_number = np.random.randint(0, 1000, size=trials)\n",
    "random_number"
   ]
  },
  {
   "cell_type": "code",
   "execution_count": 172,
   "id": "african-worst",
   "metadata": {},
   "outputs": [],
   "source": [
    "prize_dict = {  777: 200,\n",
    "                999: 100,\n",
    "                555: 50,\n",
    "                333: 15,\n",
    "                111: 10 }"
   ]
  },
  {
   "cell_type": "code",
   "execution_count": 173,
   "id": "fantastic-scratch",
   "metadata": {},
   "outputs": [
    {
     "name": "stdout",
     "output_type": "stream",
     "text": [
      "Игрок потратил: 1000000\n",
      "Игрок выиграл:  845447\n",
      "Вероятность выигрыша у лотерейного автомата:  0.845447, 84.5%\n",
      "Итоговый выигрыш:  -154553\n"
     ]
    }
   ],
   "source": [
    "for number in random_number:\n",
    "\n",
    "    if number in prize_dict:\n",
    "        prize = prize +  prize_dict[number]\n",
    "\n",
    "    elif number % 100 == 77:\n",
    "        prize += 10\n",
    "    elif number % 10 == 7:\n",
    "        prize += 3\n",
    "    elif number % 100 == 0:\n",
    "        prize += 2\n",
    "    elif number % 10 == 0:\n",
    "        prize += 1\n",
    "    else:\n",
    "        continue\n",
    "        \n",
    "print(f'Игрок потратил: {trials}')\n",
    "print(f'Игрок выиграл:  {prize}')\n",
    "print(f'Вероятность выигрыша у лотерейного автомата:  {prize/trials}, {prize/trials:.1%}') # метод Монте-Карло\n",
    "print(f'Итоговый выигрыш:  {prize-trials}')"
   ]
  },
  {
   "cell_type": "code",
   "execution_count": 174,
   "id": "fatty-monitoring",
   "metadata": {},
   "outputs": [],
   "source": [
    "# Вероятность выигрыша 84%, т.е.на  потраченный 1руб. мы получаем 84коп. выигрыша (в среднем), \n",
    "# Таким образом проигрыш с каждой игры будет 16 копеек, с 1000000 игр - проиграем 16000 рублей "
   ]
  },
  {
   "cell_type": "markdown",
   "id": "several-alloy",
   "metadata": {},
   "source": [
    "\n",
    "\n",
    "**Дополнительное задание повышенной сложности.**\n",
    "\n",
    "Теоретически рассчитать средний выигрыш (проигрыш) и сравнить с результатами моделирования\n",
    "\n",
    "– любая цифра"
   ]
  },
  {
   "cell_type": "markdown",
   "id": "wireless-retreat",
   "metadata": {},
   "source": [
    "Вероятность выпадения:\n",
    "- 777 =  1 \\ 1000\n",
    "- 999 =  1 \\ 1000\n",
    "- 555 =  1 \\ 1000\n",
    "- 333 =  1 \\ 1000\n",
    "- 111 =  1 \\ 1000 \n",
    "\n",
    "- *77 = 9 \\ 1000 (всего 9 сотен и минус 777 которую учитываем отдельно),\n",
    "- **7 = 90 \\ 1000 (т.к. из выборки убираем *77 = 9 и 777),\n",
    "- *00 = 10 \\ 1000 (10 а не 9, т.к. НЕ исключаем 000) \n",
    "- **0 = 90 \\ 1000"
   ]
  },
  {
   "attachments": {
    "image.png": {
     "image/png": "[encoded data removed]"
    }
   },
   "cell_type": "markdown",
   "id": "effective-dancing",
   "metadata": {},
   "source": [
    "**Математическое ожидание** дискретной случайной величины Х вычисляется как сумма произведений значений Xi , которые принимает случайная ведличина Х, на соответствующие вероятности Рi: \n",
    "![image.png](attachment:image.png)"
   ]
  },
  {
   "cell_type": "code",
   "execution_count": 178,
   "id": "cleared-longitude",
   "metadata": {},
   "outputs": [
    {
     "name": "stdout",
     "output_type": "stream",
     "text": [
      "Теоретически расчитанная вероятность выигрыша у лотерейного автомата:  0.8, 80.0%\n"
     ]
    }
   ],
   "source": [
    "probability = 200*0.001 + 100*0.001 + 50*0.001 + 15*0.001 + 10*0.001 + 5*0.009 + 3*0.09 + 2*0.01 + 1*0.09 \n",
    "\n",
    "print(f'Теоретически расчитанная вероятность выигрыша у лотерейного автомата:  {probability}, {probability:.1%}')"
   ]
  },
  {
   "cell_type": "code",
   "execution_count": 128,
   "id": "formal-brass",
   "metadata": {},
   "outputs": [],
   "source": []
  }
 ],
 "metadata": {
  "kernelspec": {
   "display_name": "Python 3",
   "language": "python",
   "name": "python3"
  },
  "language_info": {
   "codemirror_mode": {
    "name": "ipython",
    "version": 3
   },
   "file_extension": ".py",
   "mimetype": "text/x-python",
   "name": "python",
   "nbconvert_exporter": "python",
   "pygments_lexer": "ipython3",
   "version": "3.7.8"
  }
 },
 "nbformat": 4,
 "nbformat_minor": 5
}

{
 "cells": [
  {
   "cell_type": "markdown",
   "metadata": {},
   "source": [
    "# Домашнее задание к лекции \"Основы Python\""
   ]
  },
  {
   "cell_type": "markdown",
   "metadata": {},
   "source": [
    "## Задание 1"
   ]
  },
  {
   "cell_type": "markdown",
   "metadata": {},
   "source": [
    "Даны 2 переменных, в которых хранятся строки произвольной длины: *phrase_1* и *phrase_2*.  \n",
    "Напишите код, который проверяет какая из этих строк длиннее."
   ]
  },
  {
   "cell_type": "markdown",
   "metadata": {},
   "source": [
    "Примеры работы программы:  \n",
    "1.  \n",
    "\n",
    "```\n",
    "phrase_1 = 'Насколько проще было бы писать программы, если бы не заказчики'\n",
    "phrase_2 = '640Кб должно хватить для любых задач. Билл Гейтс (по легенде)'\n",
    "\n",
    "```\n",
    "\n",
    "Результат:  \n",
    "`Фраза 1 длиннее фразы 2`\n",
    "\n",
    "2.     \n",
    "\n",
    "```\n",
    "phrase_1 = '640Кб должно хватить для любых задач. Билл Гейтс (по легенде)'\n",
    "phrase_2 = 'Насколько проще было бы писать программы, если бы не заказчики'\n",
    "```\n",
    "\n",
    "Результат:  \n",
    "`Фраза 2 длиннее фразы 1`\n",
    "\n",
    "3.     \n",
    "\n",
    "```\n",
    "phrase_1 = 'Насколько проще было бы писать программы, если бы не заказчики'\n",
    "phrase_2 = 'Насколько проще было бы писать программы, если бы не заказчики'\n",
    "```\n",
    "\n",
    "Результат:  \n",
    "`Фразы равной длины`"
   ]
  },
  {
   "cell_type": "code",
   "execution_count": 3,
   "metadata": {},
   "outputs": [
    {
     "name": "stdout",
     "output_type": "stream",
     "text": [
      "Фраза 1 длиннее фразы 2\n"
     ]
    }
   ],
   "source": [
    "phrase_1 = 'Насколько проще было бы писать программы, если бы не заказчики'\n",
    "phrase_2 = '640Кб должно хватить для любых задач. Билл Гейтс (по легенде)'\n",
    "\n",
    "if len(phrase_1) > len(phrase_2):\n",
    "    print(f'Фраза 1 длиннее фразы 2')\n",
    "elif len(phrase_1) < len(phrase_2):\n",
    "    print(f'Фраза 2 длиннее фразы 1')\n",
    "else:\n",
    "    print(f'Фразы равной длины')"
   ]
  },
  {
   "cell_type": "code",
   "execution_count": 4,
   "metadata": {},
   "outputs": [
    {
     "name": "stdout",
     "output_type": "stream",
     "text": [
      "Фраза 2 длиннее фразы 1\n"
     ]
    }
   ],
   "source": [
    "phrase_1 = '640Кб должно хватить для любых задач. Билл Гейтс (по легенде)'\n",
    "phrase_2 = 'Насколько проще было бы писать программы, если бы не заказчики'\n",
    "\n",
    "if len(phrase_1) > len(phrase_2):\n",
    "    print(f'Фраза 1 длиннее фразы 2')\n",
    "elif len(phrase_1) < len(phrase_2):\n",
    "    print(f'Фраза 2 длиннее фразы 1')\n",
    "else:\n",
    "    print(f'Фразы равной длины')"
   ]
  },
  {
   "cell_type": "code",
   "execution_count": 5,
   "metadata": {},
   "outputs": [
    {
     "name": "stdout",
     "output_type": "stream",
     "text": [
      "Фразы равной длины\n"
     ]
    }
   ],
   "source": [
    "phrase_1 = 'Насколько проще было бы писать программы, если бы не заказчики'\n",
    "phrase_2 = 'Насколько проще было бы писать программы, если бы не заказчики'\n",
    "\n",
    "if len(phrase_1) > len(phrase_2):\n",
    "    print(f'Фраза 1 длиннее фразы 2')\n",
    "elif len(phrase_1) < len(phrase_2):\n",
    "    print(f'Фраза 2 длиннее фразы 1')\n",
    "else:\n",
    "    print(f'Фразы равной длины')"
   ]
  },
  {
   "cell_type": "markdown",
   "metadata": {},
   "source": [
    "## Задание 2"
   ]
  },
  {
   "cell_type": "markdown",
   "metadata": {},
   "source": [
    "Дана переменная, в которой хранится четырехзначное число (год). Необходимо написать программу, которая выведет, является ли данный год високосным или обычным.\n",
    "\n",
    "Пример работы программы:\n",
    "1.  \n",
    "\n",
    "```\n",
    "year = 2020\n",
    "```\n",
    "Результат:  \n",
    "`Високосный год` \n",
    "\n",
    "2.  \n",
    "\n",
    "```\n",
    "year = 2019\n",
    "```\n",
    "Результат:  \n",
    "`Обычный год` "
   ]
  },
  {
   "cell_type": "code",
   "execution_count": null,
   "metadata": {},
   "outputs": [],
   "source": [
    "# Год является високосным, если его номер кратен 4, но при этом не кратен 100, или если он кратен 400 \n",
    "# (например, 2000-ый год являлся високосным, а 2100-ый будет невисокосным годом)."
   ]
  },
  {
   "cell_type": "code",
   "execution_count": 26,
   "metadata": {},
   "outputs": [
    {
     "name": "stdout",
     "output_type": "stream",
     "text": [
      "Введите год: year = 2020\n",
      "Високосный год\n"
     ]
    }
   ],
   "source": [
    "year = int (input('Введите год: year = '))\n",
    "if ((year % 4 == 0 and year % 100 != 0) or (year % 400 == 0)):\n",
    "  print('Високосный год')\n",
    "else:\n",
    "  print('Обычный год')"
   ]
  },
  {
   "cell_type": "code",
   "execution_count": 29,
   "metadata": {},
   "outputs": [
    {
     "name": "stdout",
     "output_type": "stream",
     "text": [
      "Введите год: year = 2019\n",
      "Обычный год\n"
     ]
    }
   ],
   "source": [
    "year = int (input('Введите год: year = '))\n",
    "if ((year % 4 == 0 and year % 100 != 0) or (year % 400 == 0)):\n",
    "  print('Високосный год')\n",
    "else:\n",
    "  print('Обычный год')"
   ]
  },
  {
   "cell_type": "markdown",
   "metadata": {},
   "source": [
    "## Задание 3"
   ]
  },
  {
   "cell_type": "markdown",
   "metadata": {},
   "source": [
    "Необходимо написать программу, которая будет запрашивать у пользователя месяц и дату рождения и выводить соответствующий знак зодиака.\n",
    "\n",
    "Пример работы программы:  \n",
    "1.  \n",
    "\n",
    "```\n",
    "Введите день:\n",
    "30\n",
    "\n",
    "Введите месяц:\n",
    "Август\n",
    "```\n",
    "Результат:  \n",
    "`Ваш знак зодиака: Дева` \n",
    "\n",
    "2.  \n",
    "\n",
    "```\n",
    "Введите день:\n",
    "29\n",
    "\n",
    "Введите месяц:\n",
    "Октябрь\n",
    "```\n",
    "Результат:  \n",
    "`Ваш знак зодиака: Скорпион` \n"
   ]
  },
  {
   "cell_type": "code",
   "execution_count": 35,
   "metadata": {},
   "outputs": [
    {
     "name": "stdout",
     "output_type": "stream",
     "text": [
      "Введите день: 30\n",
      "Введите месяц: Август\n",
      "Ваш знак зодиака: Дева\n"
     ]
    }
   ],
   "source": [
    "day = int(input('Введите день: '))\n",
    "month = str(input('Введите месяц: '))\n",
    "\n",
    "if (day >= 21 and day <= 31 and month == \"Март\") or(day >=1 and day <= 20 and month == \"Апрель\"):\n",
    "    print('Ваш знак зодиака: Овен')\n",
    "elif (day >= 21 and day <= 30 and month == \"Апрель\") or(day >=1 and day <= 21 and month == \"Май\"):\n",
    "    print('Ваш знак зодиака: Телец')\n",
    "elif (day >= 22 and day <= 31 and month == \"Май\") or(day >=1 and day <= 21 and month == \"Июнь\"):\n",
    "    print('Ваш знак зодиака: Близнецы')\n",
    "elif (day >= 22 and day <= 30 and month == \"Июнь\") or(day >=1 and day <= 22 and month == \"Июль\"):\n",
    "    print('Ваш знак зодиака: Рак')\n",
    "elif (day >= 23 and day <= 31 and month == \"Июль\") or(day >=1 and day <= 23 and month == \"Август\"):\n",
    "    print('Ваш знак зодиака: Лев')\n",
    "elif (day >= 24 and day <= 31 and month == \"Август\") or(day >=1 and day <= 23 and month == \"Сентябрь\"):\n",
    "    print('Ваш знак зодиака: Дева')\n",
    "elif (day >= 24 and day <= 30 and month == \"Сентябрь\") or(day >=1 and day <= 23 and month == \"Октябрь\"):\n",
    "    print('Ваш знак зодиака: Весы')\n",
    "elif (day >= 24 and day <= 31 and month == \"Октябрь\") or(day >=1 and day <= 22 and month == \"Ноябрь\"):\n",
    "    print('Ваш знак зодиака: Скорпион')\n",
    "elif (day >= 23 and day <= 30 and month == \"Ноябрь\") or(day >=1 and day <= 22 and month == \"Декабрь\"):\n",
    "    print('Ваш знак зодиака: Стрелец')\n",
    "elif (day >= 22 and day <= 31 and month == \"Декабрь\") or(day >=1 and day <= 20 and month == \"Январь\"):\n",
    "    print('Ваш знак зодиака: Козерог')\n",
    "elif (day >= 21 and day <= 31 and month == \"Январь\") or(day >=1 and day <= 19 and month == \"Февраль\"):\n",
    "    print('Ваш знак зодиака: Водолей')\n",
    "elif (day >= 20 and day <= 29 and month == \"Февраль\") or(day >=1 and day <= 20 and month == \"Март\"):\n",
    "    print('Ваш знак зодиака: Рыбы')\n",
    "else:\n",
    "    print('Не правильно введена дата!')"
   ]
  },
  {
   "cell_type": "code",
   "execution_count": 36,
   "metadata": {},
   "outputs": [
    {
     "name": "stdout",
     "output_type": "stream",
     "text": [
      "Введите день: 29\n",
      "Введите месяц: Октябрь\n",
      "Ваш знак зодиака: Скорпион\n"
     ]
    }
   ],
   "source": [
    "day = int(input('Введите день: '))\n",
    "month = str(input('Введите месяц: '))\n",
    "\n",
    "if (day >= 21 and day <= 31 and month == \"Март\") or(day >=1 and day <= 20 and month == \"Апрель\"):\n",
    "    print('Ваш знак зодиака: Овен')\n",
    "elif (day >= 21 and day <= 30 and month == \"Апрель\") or(day >=1 and day <= 21 and month == \"Май\"):\n",
    "    print('Ваш знак зодиака: Телец')\n",
    "elif (day >= 22 and day <= 31 and month == \"Май\") or(day >=1 and day <= 21 and month == \"Июнь\"):\n",
    "    print('Ваш знак зодиака: Близнецы')\n",
    "elif (day >= 22 and day <= 30 and month == \"Июнь\") or(day >=1 and day <= 22 and month == \"Июль\"):\n",
    "    print('Ваш знак зодиака: Рак')\n",
    "elif (day >= 23 and day <= 31 and month == \"Июль\") or(day >=1 and day <= 23 and month == \"Август\"):\n",
    "    print('Ваш знак зодиака: Лев')\n",
    "elif (day >= 24 and day <= 31 and month == \"Август\") or(day >=1 and day <= 23 and month == \"Сентябрь\"):\n",
    "    print('Ваш знак зодиака: Дева')\n",
    "elif (day >= 24 and day <= 30 and month == \"Сентябрь\") or(day >=1 and day <= 23 and month == \"Октябрь\"):\n",
    "    print('Ваш знак зодиака: Весы')\n",
    "elif (day >= 24 and day <= 31 and month == \"Октябрь\") or(day >=1 and day <= 22 and month == \"Ноябрь\"):\n",
    "    print('Ваш знак зодиака: Скорпион')\n",
    "elif (day >= 23 and day <= 30 and month == \"Ноябрь\") or(day >=1 and day <= 22 and month == \"Декабрь\"):\n",
    "    print('Ваш знак зодиака: Стрелец')\n",
    "elif (day >= 22 and day <= 31 and month == \"Декабрь\") or(day >=1 and day <= 20 and month == \"Январь\"):\n",
    "    print('Ваш знак зодиака: Козерог')\n",
    "elif (day >= 21 and day <= 31 and month == \"Январь\") or(day >=1 and day <= 19 and month == \"Февраль\"):\n",
    "    print('Ваш знак зодиака: Водолей')\n",
    "elif (day >= 20 and day <= 29 and month == \"Февраль\") or(day >=1 and day <= 20 and month == \"Март\"):\n",
    "    print('Ваш знак зодиака: Рыбы')\n",
    "else:\n",
    "    print('Не правильно введена дата!')"
   ]
  },
  {
   "cell_type": "markdown",
   "metadata": {},
   "source": [
    "## Задание 4"
   ]
  },
  {
   "cell_type": "markdown",
   "metadata": {},
   "source": [
    "Вам нужно написать программу для подбора упаковок по размерам товара. Размеры (ширина, длина, высота) хранятся в переменных (в сантиметрах):\n",
    "\n",
    "Используйте следующие правила:\n",
    "- если каждое из трех измерений менее 15 сантиметров, то выведите на экран \"Коробка №1\";\n",
    "- если хотя бы одно из измерений больше 15 сантиметров, но менее 50 сантиметров, то выводите \"Коробка №2\";\n",
    "- если длина товара больше 2 метров, то выводите \"Упаковка для лыж\";\n",
    "- во всех остальных случаях выводите \"Стандартная коробка №3\".\n",
    "\n",
    "Пример работы программы:  \n",
    "1.  \n",
    "\n",
    "```\n",
    "width = 15\n",
    "length = 50\n",
    "height = 15\n",
    "```\n",
    "Результат:  \n",
    "`Стандартная коробка №3` \n",
    "\n",
    "2.  \n",
    "\n",
    "```\n",
    "width = 45\n",
    "length = 205\n",
    "height = 45\n",
    "```\n",
    "Результат:  \n",
    "`Ищите упаковку для лыж` "
   ]
  },
  {
   "cell_type": "code",
   "execution_count": 15,
   "metadata": {},
   "outputs": [
    {
     "name": "stdout",
     "output_type": "stream",
     "text": [
      "Стандартная коробка №3\n"
     ]
    }
   ],
   "source": [
    "width = 15\n",
    "length = 50\n",
    "height = 15\n",
    "\n",
    "if width and length and height < 15:\n",
    "    print(f\"Коробка №1\")\n",
    "elif 15 < (width or length or height) < 50:\n",
    "    print(f\"Коробка №2\")\n",
    "elif length > 200:\n",
    "    print(f\"Ищите упаковку для лыжж\")\n",
    "else:\n",
    "    print(f\"Стандартная коробка №3\")"
   ]
  },
  {
   "cell_type": "code",
   "execution_count": 1,
   "metadata": {},
   "outputs": [
    {
     "name": "stdout",
     "output_type": "stream",
     "text": [
      "Коробка №2\n"
     ]
    }
   ],
   "source": [
    "width = 45\n",
    "length = 205\n",
    "height = 45\n",
    "\n",
    "if width and length and height < 15:\n",
    "    print(f\"Коробка №1\")\n",
    "elif length > 200:\n",
    "    print(f\"Ищите упаковку для лыж\")\n",
    "elif 15 < (width or length or height) < 50:\n",
    "    print(f\"Коробка №2\")\n",
    "else:\n",
    "    print(f\"Стандартная коробка №3\")"
   ]
  },
  {
   "cell_type": "markdown",
   "metadata": {},
   "source": [
    "## Задание 5 (необязательное)"
   ]
  },
  {
   "cell_type": "markdown",
   "metadata": {},
   "source": [
    "Дана переменная, в которой хранится шестизначное число (номер проездного билета). Напишите программу, которая будет определять, является ли данный билет \"счастливым\". Билет считается счастливым, если сумма первых трех цифр совпадает с суммой последних трех цифр номера.   \n",
    "\n",
    "Примеры работы программы:  \n",
    "1. ```number = 123456```\n",
    "\n",
    "Результат:  \n",
    "`Несчастливый билет`\n",
    "\n",
    "2. ```number = 123321```\n",
    "\n",
    "Результат:  \n",
    "`Счастливый билет`\n"
   ]
  },
  {
   "cell_type": "code",
   "execution_count": 20,
   "metadata": {},
   "outputs": [
    {
     "name": "stdout",
     "output_type": "stream",
     "text": [
      "Несчастливый билет\n"
     ]
    }
   ],
   "source": [
    "number = 123456\n",
    "number = str(number)\n",
    "\n",
    "if (number[0] + number[1] + number[2]) == (number[-1] + number[-2] + number[-3]):\n",
    "    print(f'Счастливый билет')\n",
    "else:\n",
    "    print(f'Несчастливый билет')"
   ]
  },
  {
   "cell_type": "code",
   "execution_count": 21,
   "metadata": {},
   "outputs": [
    {
     "name": "stdout",
     "output_type": "stream",
     "text": [
      "Счастливый билет\n"
     ]
    }
   ],
   "source": [
    "number = 123321\n",
    "number = str(number)\n",
    "\n",
    "if (number[0] + number[1] + number[2]) == (number[-1] + number[-2] + number[-3]):\n",
    "    print(f'Счастливый билет')\n",
    "else:\n",
    "    print(f'Несчастливый билет')"
   ]
  },
  {
   "cell_type": "markdown",
   "metadata": {},
   "source": [
    "## Задание 6 (необязательное)"
   ]
  },
  {
   "cell_type": "markdown",
   "metadata": {},
   "source": [
    "Напишите программу, которая сможет вычислять площади трех фигур (круг, треугольник и прямоугольник).\n",
    "Тип фигуры запрашиваем через пользовательский ввод, после чего делаем запрос характеристик фигуры:\n",
    "\n",
    "- если пользователь выбрал круг, запрашиваем его радиус,\n",
    "- если треугольник – длины трех его сторон;\n",
    "- если прямоугольник – длины двух его сторон.\n",
    "\n",
    "Пример работы программы:\n",
    "1.  \n",
    "\n",
    "```\n",
    "Введите тип фигуры:\n",
    "Круг\n",
    "\n",
    "Введите радиус круга:\n",
    "10\n",
    "```\n",
    "Результат:  \n",
    "`Площадь круга: 314.16`\n",
    "\n",
    "2.  \n",
    "\n",
    "```\n",
    "Введите тип фигуры:\n",
    "Треугольник\n",
    "\n",
    "Введите длину стороны A:\n",
    "2\n",
    "\n",
    "Введите длину стороны B:\n",
    "2\n",
    "\n",
    "Введите длину стороны C:\n",
    "3\n",
    "```\n",
    "Результат:  \n",
    "`Площадь треугольника: 1.98`"
   ]
  },
  {
   "cell_type": "code",
   "execution_count": 38,
   "metadata": {},
   "outputs": [],
   "source": [
    "import math"
   ]
  },
  {
   "cell_type": "code",
   "execution_count": 42,
   "metadata": {},
   "outputs": [
    {
     "name": "stdout",
     "output_type": "stream",
     "text": [
      "Введите тип фигуры: Круг\n",
      "Введите радиус круга: 10\n",
      "Площадь круга: 314.16\n"
     ]
    }
   ],
   "source": [
    "figure = str(input('Введите тип фигуры: '))\n",
    "\n",
    "if figure == 'Круг':\n",
    "    radius = int(input('Введите радиус круга: '))\n",
    "    S = math.pi * (radius ** 2)\n",
    "    print(f'Площадь круга: {S:.2f}') \n",
    "    \n",
    "elif figure == 'Треугольник':\n",
    "    A = int(input('Введите длину стороны A: '))\n",
    "    B = int(input('Введите длину стороны B: '))\n",
    "    C = int(input('Введите длину стороны C: '))\n",
    "    \n",
    "    p = (A + B + C) / 2\n",
    "    S = math.sqrt(p * (p - A) * (p - B) * (p - C))\n",
    "    print(f'Площадь треугольника: {S:.2f}') \n",
    "    \n",
    "elif figure == 'Прямоугольник':\n",
    "    A = int(input('Введите длину стороны A: '))\n",
    "    B = int(input('Введите длину стороны B: '))\n",
    "        \n",
    "    S = A * B\n",
    "    print(f'Прямоугольник: {S:.2f}') \n",
    "\n",
    "else:\n",
    "    print('Не правильно введена фигура!')   "
   ]
  },
  {
   "cell_type": "code",
   "execution_count": 43,
   "metadata": {},
   "outputs": [
    {
     "name": "stdout",
     "output_type": "stream",
     "text": [
      "Введите тип фигуры: Треугольник\n",
      "Введите длину стороны A: 2\n",
      "Введите длину стороны B: 2\n",
      "Введите длину стороны C: 3\n",
      "Площадь треугольника: 1.98\n"
     ]
    }
   ],
   "source": [
    "figure = str(input('Введите тип фигуры: '))\n",
    "\n",
    "if figure == 'Круг':\n",
    "    radius = int(input('Введите радиус круга: '))\n",
    "    S = math.pi * (radius ** 2)\n",
    "    print(f'Площадь круга: {S:.2f}') \n",
    "    \n",
    "elif figure == 'Треугольник':\n",
    "    A = int(input('Введите длину стороны A: '))\n",
    "    B = int(input('Введите длину стороны B: '))\n",
    "    C = int(input('Введите длину стороны C: '))\n",
    "    \n",
    "    p = (A + B + C) / 2\n",
    "    S = math.sqrt(p * (p - A) * (p - B) * (p - C))\n",
    "    print(f'Площадь треугольника: {S:.2f}') \n",
    "    \n",
    "elif figure == 'Прямоугольник':\n",
    "    A = int(input('Введите длину стороны A: '))\n",
    "    B = int(input('Введите длину стороны B: '))\n",
    "        \n",
    "    S = A * B\n",
    "    print(f'Прямоугольник: {S:.2f}') \n",
    "\n",
    "else:\n",
    "    print('Не правильно введена фигура!')   "
   ]
  },
  {
   "cell_type": "markdown",
   "metadata": {},
   "source": [
    "#### ПРИМЕЧАНИЕ\n",
    "Домашнее задание сдается ссылкой на репозиторий [GitHub](https://github.com/).\n",
    "Не сможем проверить или помочь, если вы пришлете:\n",
    "- файлы;\n",
    "- архивы;\n",
    "- скриншоты кода.\n",
    "\n",
    "Все обсуждения и консультации по выполнению домашнего задания ведутся только на соответствующем канале в slack.\n",
    "\n",
    "##### Как правильно задавать вопросы аспирантам, преподавателям и коллегам\n",
    "Прежде чем задать вопрос, попробуйте найти ответ в интернете. Навык самостоятельного поиска информации — один из важнейших. Каждый практикующий специалист любого уровня делает это ежедневно.\n",
    "\n",
    "Сформулируйте вопрос по алгоритму:  \n",
    "1) Что я делаю?  \n",
    "2) Какого результата я ожидаю?  \n",
    "3) Как фактический результат отличается от ожидаемого?  \n",
    "4) Что я уже попробовал сделать, чтобы исправить проблему?  \n",
    "\n",
    "По возможности прикрепите к вопросу скриншоты либо ссылки на код. Не выкладывайте все решение, оставляйте только проблемный и воспроизводимый участок кода."
   ]
  }
 ],
 "metadata": {
  "kernelspec": {
   "display_name": "Python 3",
   "language": "python",
   "name": "python3"
  },
  "language_info": {
   "codemirror_mode": {
    "name": "ipython",
    "version": 3
   },
   "file_extension": ".py",
   "mimetype": "text/x-python",
   "name": "python",
   "nbconvert_exporter": "python",
   "pygments_lexer": "ipython3",
   "version": "3.7.8"
  }
 },
 "nbformat": 4,
 "nbformat_minor": 2
}
